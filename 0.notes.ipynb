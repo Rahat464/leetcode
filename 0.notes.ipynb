{
 "cells": [
  {
   "cell_type": "markdown",
   "metadata": {},
   "source": [
    "# DSA in Python3\n",
    "\n",
    "This Jupyter Notebook document serves as a repository for findings, notes, and technique commonly used in solutions related to Leetcode problems, data structures, and algorithms. It provides a convenient way to keep track of your progress and make note of Python3 specific functions."
   ]
  },
  {
   "cell_type": "markdown",
   "metadata": {},
   "source": [
    "## 1. Python3 Specific Features"
   ]
  },
  {
   "cell_type": "markdown",
   "metadata": {},
   "source": [
    "### 1.1 Lambda Functions"
   ]
  },
  {
   "cell_type": "code",
   "execution_count": null,
   "metadata": {},
   "outputs": [],
   "source": [
    "# Example 1: Using lambda function to square a number\n",
    "square = lambda x: x**2\n",
    "print(square(5))  # Output: 25\n",
    "\n",
    "# Example 2: Using lambda function as a key function in sorting\n",
    "names = ['Alice', 'Bob', 'Charlie', 'David']\n",
    "sorted_names = sorted(names, key=lambda x: len(x))\n",
    "print(sorted_names)  # Output: ['Bob', 'Alice', 'David', 'Charlie']"
   ]
  },
  {
   "cell_type": "markdown",
   "metadata": {},
   "source": [
    "### 1.2 Type Hints"
   ]
  },
  {
   "cell_type": "code",
   "execution_count": null,
   "metadata": {},
   "outputs": [],
   "source": [
    "# Example of using type hints for functions and common data structures\n",
    "\n",
    "# Type hints for function parameters and return type\n",
    "def add_numbers(a: int, b: int) -> int:\n",
    "    return a + b\n",
    "\n",
    "# Type hints for lists\n",
    "numbers: list[int] = [1, 2, 3, 4, 5]\n",
    "\n",
    "# Type hints for dictionaries\n",
    "person0: dict[str, int] = {\"Bob\": 1}\n",
    "\n",
    "# Type hints for tuples\n",
    "point: tuple[int, int] = (10, 20)\n",
    "\n",
    "# Type hints for sets\n",
    "fruits: set[str] = {'apple', 'banana', 'orange'}\n",
    "\n",
    "# Type hints for boolean values\n",
    "is_valid: bool = True\n",
    "# Type hints for strings\n",
    "name: str = \"Alice\"\n",
    "\n",
    "# Type hints for floats\n",
    "pi: float = 3.14159\n",
    "\n",
    "# Type hints for bytes\n",
    "data: bytes = b'\\x00\\x01\\x02\\x03'\n",
    "\n",
    "# Type hints for bytearrays\n",
    "buffer: bytearray = bytearray(10)\n",
    "\n",
    "# Type hints for complex numbers\n",
    "complex_num: complex = 2 + 3j"
   ]
  },
  {
   "cell_type": "markdown",
   "metadata": {},
   "source": [
    "### 1.3 List Comprehensions & Generators\n"
   ]
  },
  {
   "cell_type": "code",
   "execution_count": null,
   "metadata": {},
   "outputs": [],
   "source": [
    "# List comprehension for pre-filling lists efficiently\n",
    "squares = [x**2 for x in range(1, 11)]\n",
    "\n",
    "# Using a generator expression to calculate the sum of squares\n",
    "sum_of_squares = sum(x**2 for x in range(1, 11))"
   ]
  },
  {
   "cell_type": "markdown",
   "metadata": {},
   "source": [
    "### 1.4 collections module"
   ]
  },
  {
   "cell_type": "code",
   "execution_count": null,
   "metadata": {},
   "outputs": [],
   "source": [
    "from collections import Counter, defaultdict, deque\n",
    "\n",
    "# Counter: Count the occurrences of elements in a list\n",
    "numbers = [1, 2, 3, 4, 5, 1, 2, 3, 4, 1]\n",
    "counter = Counter(numbers)\n",
    "\n",
    "# defaultdict: Handle missing keys in dictionaries\n",
    "fruit_counts = defaultdict(int)\n",
    "fruits = ['apple', 'banana', 'apple', 'orange', 'banana']\n",
    "for fruit in fruits:\n",
    "    fruit_counts[fruit] += 1\n",
    "\n",
    "# deque: Double-ended queue for efficient append and pop operations\n",
    "queue = deque()\n",
    "queue.append(1)  # Append to the right\n",
    "queue.appendleft(2)  # Append to the left/head\n",
    "\n",
    "queue.pop()  # Pop from the right\n",
    "queue.popleft()  # Pop from the left/head"
   ]
  },
  {
   "cell_type": "markdown",
   "metadata": {},
   "source": [
    "### 1.5 Sorting"
   ]
  },
  {
   "cell_type": "code",
   "execution_count": null,
   "metadata": {},
   "outputs": [],
   "source": [
    "# In python3, the time and memory complexity of the sort() method is O(n log n) and O(n) respectively.\n",
    "# Python3 uses TimSort (hybrid of merge and insertion sort) for sorting lists.\n",
    "\n",
    "# Sorting Arrays\n",
    "sorted_array = sorted(numbers)  # Using the `sorted()` function\n",
    "numbers.sort()  # Using the `sort()` method\n",
    "\n",
    "# Sorting Dictionaries\n",
    "sorted_dict_keys = sorted(fruit_counts.keys())  # Sorting by keys\n",
    "sorted_dict_values = sorted(fruit_counts.items(), key=lambda x: x[1])  # Sorting by values\n",
    "\n",
    "# Sorting Lists of Objects\n",
    "sorted_fruits = sorted(fruits, key=lambda x: len(x))  # Using the `sorted()` function with a custom key function\n",
    "\n",
    "# Sorting Tuples\n",
    "sorted_tuples = sorted(point)  # Using the `sorted()` function\n",
    "\n",
    "# Sorting Sets\n",
    "sorted_set = sorted(fruits)  # Converting the set to a sorted list\n",
    "\n",
    "# Sorting Deques\n",
    "sorted_queue = sorted(list(queue))  # Converting the deque to a list and then sorting\n"
   ]
  },
  {
   "cell_type": "markdown",
   "metadata": {},
   "source": [
    "## 2. Data Structures\n",
    "\n"
   ]
  },
  {
   "cell_type": "markdown",
   "metadata": {},
   "source": [
    "### 2.1 Arrays & Lists"
   ]
  },
  {
   "cell_type": "code",
   "execution_count": null,
   "metadata": {},
   "outputs": [],
   "source": [
    "# Slicing\n",
    "fruits = ['apple', 'banana', 'orange', 'kiwi', 'mango']\n",
    "sliced_fruits = fruits[1:4]  # Get a slice of fruits from index 1 to 3 (exclusive)\n",
    "print(sliced_fruits)  # Output: ['banana', 'orange', 'kiwi']\n",
    "\n",
    "# List Comprehensions\n",
    "numbers = [1, 2, 3, 4, 5]\n",
    "squared_numbers = [x**2 for x in numbers]  # Square each number in the list\n",
    "print(squared_numbers)  # Output: [1, 4, 9, 16, 25]\n",
    "\n",
    "# Built-in Functions for Arrays, Lists, and Tuples\n",
    "numbers = [1, 2, 3, 4, 5]\n",
    "fruits = ['apple', 'banana', 'orange']\n",
    "point = (10, 20)\n",
    "\n",
    "# Maximum and Minimum\n",
    "print(max(numbers))  # Output: 5\n",
    "print(min(numbers))  # Output: 1\n",
    "print(max(fruits))  # Output: 'orange'\n",
    "print(min(fruits))  # Output: 'apple'\n",
    "\n",
    "# Sum\n",
    "print(sum(numbers))  # Output: 15\n",
    "\n",
    "# Sorting\n",
    "sorted_numbers = sorted(numbers)  # Sort the numbers in ascending order\n",
    "list_of_tuples = [(3,2),(1,2)]\n",
    "sorted_tuples = sorted(list_of_tuples, key=lambda x: x[0]) # Sorts tuple based on index 1\n",
    "print(sorted_numbers)  # Output: [1, 2, 3, 4, 5]\n",
    "\n",
    "# Reversing\n",
    "reversed_numbers = list(reversed(numbers))  # Reverse the order of numbers\n",
    "print(reversed_numbers)  # Output: [5, 4, 3, 2, 1]\n",
    "\n",
    "# Membership Testing\n",
    "print(3 in numbers)  # Output: True\n",
    "print('kiwi' in fruits)  # Output: False\n",
    "\n",
    "# Count\n",
    "print(numbers.count(3))  # Output: 1\n",
    "print(fruits.count('banana'))  # Output: 1\n",
    "\n",
    "# Index\n",
    "print(numbers.index(3))  # Output: 2\n",
    "print(fruits.index('banana'))  # Output: 1\n",
    "\n",
    "# Concatenation\n",
    "combined_list = numbers + fruits  # Concatenate numbers and fruits\n",
    "print(combined_list)  # Output: [1, 2, 3, 4, 5, 'apple', 'banana', 'orange']\n",
    "\n",
    "# Repetition\n",
    "repeated_list = fruits * 2  # Repeat fruits twice\n",
    "print(repeated_list)  # Output: ['apple', 'banana', 'orange', 'apple', 'banana', 'orange']\n",
    "\n",
    "\n",
    "# Conversion\n",
    "from array import array\n",
    "array_numbers = array('i', numbers)  # Convert numbers to an array\n",
    "print(array_numbers)  # Output: array('i', [1, 2, 3, 4, 5])"
   ]
  },
  {
   "cell_type": "markdown",
   "metadata": {},
   "source": [
    "### 2.2 Heap"
   ]
  },
  {
   "cell_type": "markdown",
   "metadata": {},
   "source": [
    "In python, heaps are min-heaps. To get maxheap, negate any values before inserting and then negate again when popping to get the original value back.\n",
    "\n",
    "Time Complexity:\n",
    "\n",
    "Insert/Delete: O(logn)\n",
    "\n",
    "Hence converting a list into a heap is O(nlogn)"
   ]
  },
  {
   "cell_type": "code",
   "execution_count": null,
   "metadata": {},
   "outputs": [],
   "source": [
    "import heapq\n",
    "\n",
    "# To create a heap, you can start off with an empty array\n",
    "heap = []\n",
    "# Or convert an existing array into a heap\n",
    "heap = [1,2,3]\n",
    "heapq.heapify(heap)\n",
    "\n",
    "# Insert elements into the heap\n",
    "heapq.heappush(heap, 10)\n",
    "heapq.heappush(heap, 9)\n",
    "\n",
    "# Pop the smallest element from the heap\n",
    "print(heapq.heappop(heap))\n",
    "\n",
    "# Peek, and other array-like functions work as normal\n",
    "print(heap[0])\n",
    "\n",
    "# Get the n largest/smallest elements\n",
    "# Does not remove elements from heap\n",
    "n_largest = heapq.nlargest(1, heap)\n",
    "n_smallest = heapq.nsmallest(1, heap)"
   ]
  },
  {
   "cell_type": "markdown",
   "metadata": {},
   "source": [
    "### 2.3 Sets\n",
    "Sets, aka hashsets, are essentially arrays but cannot contain duplicates.\n",
    "\n",
    "Time/Space:\n",
    "O(1) for all actions."
   ]
  },
  {
   "cell_type": "code",
   "execution_count": null,
   "metadata": {},
   "outputs": [],
   "source": [
    "# Set operations\n",
    "# Creation\n",
    "my_set = {1, 2, 3, 4, 5}\n",
    "empty_set = set()  # Create an empty set\n",
    "\n",
    "# Adding/removing elements\n",
    "my_set.add(6)  # Add element\n",
    "my_set.remove(3)  # Remove element (raises KeyError if not found)\n",
    "my_set.discard(10)  # Remove element if present (no error if not found)\n",
    "\n",
    "# Set operations\n",
    "set1 = {1, 2, 3, 4}\n",
    "set2 = {3, 4, 5, 6}\n",
    "union_set = set1 | set2  # Union: {1, 2, 3, 4, 5, 6}\n",
    "intersection_set = set1 & set2  # Intersection: {3, 4}\n",
    "difference_set = set1 - set2  # Difference: {1, 2}\n",
    "symmetric_difference = set1 ^ set2  # Symmetric difference: {1, 2, 5, 6}"
   ]
  },
  {
   "cell_type": "markdown",
   "metadata": {},
   "source": [
    "### 2.4 Hashmap (Dictionary)\n",
    "Stored in a {K: V} pair.\n",
    "\n",
    "O(1) insertion and deletion"
   ]
  },
  {
   "cell_type": "code",
   "execution_count": null,
   "metadata": {},
   "outputs": [],
   "source": [
    "# Dictionary operations\n",
    "# Creation\n",
    "my_dict = {'key1': 'value1', 'key2': 'value2'}\n",
    "\n",
    "# Accessing elements\n",
    "value = my_dict['key1']\n",
    "value = my_dict.get('key3', 'default')  # Returns 'default' if key3 doesn't exist\n",
    "\n",
    "# Adding/updating elements\n",
    "my_dict['key3'] = 'value3'  # Add new key-value pair\n",
    "my_dict.update({'key4': 'value4', 'key5': 'value5'})  # Add multiple key-value pairs\n",
    "\n",
    "# Removing elements\n",
    "del my_dict['key1']  # Remove key-value pair\n",
    "value = my_dict.pop('key2')  # Remove and return value\n",
    "\n",
    "# Iteration\n",
    "for key in my_dict:  # Iterate over keys\n",
    "    print(key, my_dict[key])\n",
    "\n",
    "for key, value in my_dict.items():  # Iterate over key-value pairs\n",
    "    print(key, value)"
   ]
  },
  {
   "cell_type": "markdown",
   "metadata": {},
   "source": [
    "### 2.5 Linked Lists\n",
    "A data structure comprised of a head pointer (first node in list) and tail (last in list) pointer. In leetcode problems, you are usually only given the head node and no class to represent the linked list.\n",
    "The list comprises of nodes pointing to the next node, forming a list. The last node points to null.\n",
    "\n",
    "There is also bidirectional linked lists where each node also has a pointer to the previous."
   ]
  },
  {
   "cell_type": "code",
   "execution_count": null,
   "metadata": {},
   "outputs": [],
   "source": [
    "# Linked List\n",
    "class Node:\n",
    "    def __init__(self, data):\n",
    "        self.data: int = data\n",
    "        self.next: Node = None\n",
    "\n",
    "class LinkedList:\n",
    "    def __init__(self):\n",
    "        self.head: Node = None\n",
    "\n",
    "    def append(self, data):\n",
    "        new_node = Node(data)\n",
    "        if not self.head:\n",
    "            self.head = new_node\n",
    "            return\n",
    "        last_node = self.head\n",
    "        while last_node.next:\n",
    "            last_node = last_node.next\n",
    "        last_node.next = new_node\n",
    "\n",
    "\n",
    "\n",
    "# Example usage of LinkedList\n",
    "linked_list = LinkedList()\n",
    "for i in range(1, 4): linked_list.append(i)\n",
    "current_node = linked_list.head\n",
    "while current_node:\n",
    "    print(current_node.data)  # Output: 1 2 3\n",
    "    current_node = current_node.next\n"
   ]
  },
  {
   "cell_type": "markdown",
   "metadata": {},
   "source": [
    "## 3. Algorithms\n"
   ]
  },
  {
   "cell_type": "markdown",
   "metadata": {},
   "source": [
    "### 3.1 Sorting Algorithms"
   ]
  },
  {
   "cell_type": "markdown",
   "metadata": {},
   "source": [
    "#### 3.1.1 Quick Sort\n",
    "- **Description**: A divide-and-conquer algorithm that selects a pivot element and partitions the array around the pivot.\n",
    "- **Time Complexity**: \n",
    "    - Best/Average Case: O(n log n)\n",
    "    - Worst Case: O(n^2) (occurs when the pivot is poorly chosen)\n",
    "- **Space Complexity**: O(log n) (due to recursion stack)"
   ]
  },
  {
   "cell_type": "code",
   "execution_count": null,
   "metadata": {},
   "outputs": [],
   "source": [
    "# QUICK SORT\n",
    "def quick_sort(arr):\n",
    "    if len(arr) <= 1:\n",
    "        return arr\n",
    "    pivot = arr[len(arr) // 2]\n",
    "    left = [x for x in arr if x < pivot]\n",
    "    middle = [x for x in arr if x == pivot]\n",
    "    right = [x for x in arr if x > pivot]\n",
    "    return quick_sort(left) + middle + quick_sort(right)\n",
    "\n",
    "# Example usage\n",
    "arr = [3, 6, 8, 10, 1, 2, 1]\n",
    "sorted_arr = quick_sort(arr)\n",
    "print(sorted_arr)  # Output: [1, 1, 2, 3, 6, 8, 10]"
   ]
  },
  {
   "cell_type": "markdown",
   "metadata": {},
   "source": [
    "#### 3.1.2. **Merge Sort**:\n",
    "- **Description**: A divide-and-conquer algorithm that divides the array into halves, sorts them, and merges them back.\n",
    "- **Time Complexity**: O(n log n) for all cases\n",
    "- **Space Complexity**: O(n) (due to auxiliary arrays used for merging)"
   ]
  },
  {
   "cell_type": "code",
   "execution_count": null,
   "metadata": {},
   "outputs": [],
   "source": [
    "# Merge Sort\n",
    "def merge_sort(arr):\n",
    "    if len(arr) <= 1:\n",
    "        return arr\n",
    "    mid = len(arr) // 2\n",
    "    left_half = merge_sort(arr[:mid])\n",
    "    right_half = merge_sort(arr[mid:])\n",
    "    return merge(left_half, right_half)\n",
    "\n",
    "def merge(left, right):\n",
    "    result = []\n",
    "    i = j = 0\n",
    "    while i < len(left) and j < len(right):\n",
    "        if left[i] < right[j]:\n",
    "            result.append(left[i])\n",
    "            i += 1\n",
    "        else:\n",
    "            result.append(right[j])\n",
    "            j += 1\n",
    "    result.extend(left[i:])\n",
    "    result.extend(right[j:])\n",
    "    return result\n",
    "\n",
    "# Example usage\n",
    "arr = [38, 27, 43, 3, 9, 82, 10]\n",
    "sorted_arr = merge_sort(arr)\n",
    "print(sorted_arr)"
   ]
  },
  {
   "cell_type": "markdown",
   "metadata": {},
   "source": [
    "#### 3.1.3. **Heap Sort**:\n",
    "- **Description**: A comparison-based sorting algorithm that uses a binary heap data structure.\n",
    "- **Time Complexity**: O(n log n) for all cases\n",
    "- **Space Complexity**: O(1) (in-place sorting)"
   ]
  },
  {
   "cell_type": "code",
   "execution_count": null,
   "metadata": {},
   "outputs": [],
   "source": [
    "# Heap Sort\n",
    "def heapify(arr, n, i):\n",
    "    largest = i\n",
    "    left = 2 * i + 1\n",
    "    right = 2 * i + 2\n",
    "\n",
    "    if left < n and arr[left] > arr[largest]:\n",
    "        largest = left\n",
    "\n",
    "    if right < n and arr[right] > arr[largest]:\n",
    "        largest = right\n",
    "\n",
    "    if largest != i:\n",
    "        arr[i], arr[largest] = arr[largest], arr[i]\n",
    "        heapify(arr, n, largest)\n",
    "\n",
    "def heap_sort(arr):\n",
    "    n = len(arr)\n",
    "\n",
    "    for i in range(n // 2 - 1, -1, -1):\n",
    "        heapify(arr, n, i)\n",
    "\n",
    "    for i in range(n - 1, 0, -1):\n",
    "        arr[i], arr[0] = arr[0], arr[i]\n",
    "        heapify(arr, i, 0)\n",
    "\n",
    "# Example usage\n",
    "arr = [12, 11, 13, 5, 6, 7]\n",
    "heap_sort(arr)\n",
    "print(\"Sorted array is:\", arr)  # Output: Sorted array is: [5, 6, 7, 11, 12, 13]"
   ]
  },
  {
   "cell_type": "markdown",
   "metadata": {},
   "source": [
    "### 3.2 Search Algorithms\n",
    "\n",
    "Find a value inside a list"
   ]
  },
  {
   "cell_type": "code",
   "execution_count": null,
   "metadata": {},
   "outputs": [],
   "source": [
    "# Linear Search example\n",
    "def linear_search(arr, target):\n",
    "    for index, value in enumerate(arr):\n",
    "        if value == target:\n",
    "            return index\n",
    "    return -1\n",
    "\n",
    "result = linear_search([0,1,2,3,4,5], 3)\n",
    "if result != -1: print(\"Found at index\", result)\n",
    "else: print(\"Not Found\")"
   ]
  },
  {
   "cell_type": "code",
   "execution_count": null,
   "metadata": {},
   "outputs": [],
   "source": [
    "# Binary Search example\n",
    "def binary_search(arr, target):\n",
    "    left, right = 0, len(arr) - 1\n",
    "    while left <= right:\n",
    "        mid = (left + right) // 2\n",
    "        if arr[mid] == target:\n",
    "            return mid\n",
    "        elif arr[mid] < target:\n",
    "            left = mid + 1\n",
    "        else:\n",
    "            right = mid - 1\n",
    "    return -1\n",
    "\n",
    "result = binary_search([0,1,2,3,4,5], 3)\n",
    "if result != -1: print(\"Found at index\", result)\n",
    "else: print(\"Not Found\")"
   ]
  },
  {
   "cell_type": "markdown",
   "metadata": {},
   "source": [
    "### 3.3 Tree Traversal"
   ]
  },
  {
   "cell_type": "code",
   "execution_count": null,
   "metadata": {},
   "outputs": [],
   "source": [
    "from collections import deque\n",
    "# Breadth First Search\n",
    "\n",
    "def bfs(root):\n",
    "    if not root: return []\n",
    "    \n",
    "    result = []\n",
    "    queue = deque([root])\n",
    "    \n",
    "    while queue:\n",
    "        node = queue.popleft()  # Get the node from the front of the queue\n",
    "        result.append(node.value)\n",
    "        \n",
    "        # Add the children of the current node to the queue\n",
    "        if node.left: queue.append(node.left)\n",
    "        if node.right: queue.append(node.right)\n",
    "    \n",
    "    return result"
   ]
  },
  {
   "cell_type": "code",
   "execution_count": null,
   "metadata": {},
   "outputs": [],
   "source": [
    "def dfs(root):\n",
    "    if not root: return []\n",
    "    \n",
    "    result = []\n",
    "    \n",
    "    # Pre-Order\n",
    "    def preOrder(node):\n",
    "        if not node: return\n",
    "        result.append(node.value)  # Process current node\n",
    "        preOrder(node.left)        # Recur on the left child\n",
    "        preOrder(node.right)       # Recur on the right child\n",
    "    \n",
    "    preOrder(root)  # Can call this if you want preOrder result\n",
    "    # return result  # Uncomment to return preOrder result\n",
    "    \n",
    "    # In-Order\n",
    "    def inOrder(node):\n",
    "        if not node: return\n",
    "        inOrder(node.left)         # Recur on the left child\n",
    "        result.append(node.value)  # Process current node\n",
    "        inOrder(node.right)        # Recur on the right child\n",
    "\n",
    "    # Post-Order\n",
    "    def postOrder(node):\n",
    "        if not node: return\n",
    "        postOrder(node.left)       # Recur on the left child\n",
    "        postOrder(node.right)      # Recur on the right child\n",
    "        result.append(node.value)  # Process current node\n"
   ]
  },
  {
   "cell_type": "markdown",
   "metadata": {},
   "source": [
    "Essentially, the difference between the different orders is when the node is appended to results."
   ]
  },
  {
   "cell_type": "markdown",
   "metadata": {},
   "source": [
    "### 3.4 Graph Traversal"
   ]
  },
  {
   "cell_type": "markdown",
   "metadata": {},
   "source": [
    "#### Dijkstra's Algorithm"
   ]
  },
  {
   "cell_type": "code",
   "execution_count": null,
   "metadata": {},
   "outputs": [],
   "source": [
    "import heapq\n",
    "\n",
    "# Dijkstra's Algorithm\n",
    "# TODO: Implement Dijkstra's algorithm"
   ]
  },
  {
   "cell_type": "markdown",
   "metadata": {},
   "source": [
    "### 4 Leetcode Patterns"
   ]
  },
  {
   "cell_type": "markdown",
   "metadata": {},
   "source": [
    "#### 4.1 Two Pointers"
   ]
  },
  {
   "cell_type": "code",
   "execution_count": 6,
   "metadata": {},
   "outputs": [],
   "source": [
    "# TODO: Two pointer example"
   ]
  },
  {
   "cell_type": "markdown",
   "metadata": {},
   "source": [
    "#### 4.2 Sliding Window"
   ]
  },
  {
   "cell_type": "code",
   "execution_count": null,
   "metadata": {},
   "outputs": [],
   "source": [
    "# TODO: Sliding Window Example"
   ]
  },
  {
   "cell_type": "markdown",
   "metadata": {},
   "source": [
    "### 5. Dynamic Programming\n",
    "\n",
    "Dynamic Programming (DP) is a method for solving complex problems by breaking them down into simpler subproblems. It is applicable when the problem has overlapping subproblems and optimal substructure properties.\n",
    "\n",
    "#### Key Concepts:\n",
    "1. **Overlapping Subproblems**: The problem can be divided into smaller subproblems, which are solved multiple times.\n",
    "2. **Optimal Substructure**: The solution to a problem can be constructed from the solutions of its subproblems.\n",
    "\n",
    "#### Approaches:\n",
    "1. **Top-Down (Memoization)**: Solve the problem recursively and store the results of subproblems to avoid redundant calculations.\n",
    "2. **Bottom-Up (Tabulation)**: Solve the problem iteratively by solving all subproblems first and building up the solution.\n",
    "\n",
    "#### Time Complexity:\n",
    "- Typically O(n) to O(n^2), depending on the problem.\n",
    "\n",
    "#### Space Complexity:\n",
    "- Depends on the storage used for memoization or tabulation, typically O(n) or O(n^2)."
   ]
  },
  {
   "cell_type": "code",
   "execution_count": null,
   "metadata": {},
   "outputs": [],
   "source": [
    "# TODO: Add examples of Dynamic Programming solutions"
   ]
  }
 ],
 "metadata": {
  "kernelspec": {
   "display_name": "Python 3",
   "language": "python",
   "name": "python3"
  },
  "language_info": {
   "codemirror_mode": {
    "name": "ipython",
    "version": 3
   },
   "file_extension": ".py",
   "mimetype": "text/x-python",
   "name": "python",
   "nbconvert_exporter": "python",
   "pygments_lexer": "ipython3",
   "version": "3.12.3"
  }
 },
 "nbformat": 4,
 "nbformat_minor": 2
}
